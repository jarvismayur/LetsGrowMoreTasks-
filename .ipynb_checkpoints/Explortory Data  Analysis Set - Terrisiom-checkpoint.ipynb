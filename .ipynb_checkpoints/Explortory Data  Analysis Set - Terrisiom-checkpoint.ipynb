{
 "cells": [
  {
   "cell_type": "markdown",
   "metadata": {},
   "source": [
    "# Global Terrorism Analysis\n"
   ]
  },
  {
   "cell_type": "markdown",
   "metadata": {},
   "source": [
    "#### Inserting required Libraries"
   ]
  },
  {
   "cell_type": "code",
   "execution_count": 1,
   "metadata": {},
   "outputs": [
    {
     "ename": "ModuleNotFoundError",
     "evalue": "No module named 'plotly'",
     "output_type": "error",
     "traceback": [
      "\u001b[1;31m---------------------------------------------------------------------------\u001b[0m",
      "\u001b[1;31mModuleNotFoundError\u001b[0m                       Traceback (most recent call last)",
      "\u001b[1;32m<ipython-input-1-9dc0312dcaf2>\u001b[0m in \u001b[0;36m<module>\u001b[1;34m\u001b[0m\n\u001b[0;32m      3\u001b[0m \u001b[1;32mimport\u001b[0m \u001b[0mmatplotlib\u001b[0m\u001b[1;33m.\u001b[0m\u001b[0mpyplot\u001b[0m \u001b[1;32mas\u001b[0m \u001b[0mplt\u001b[0m\u001b[1;33m\u001b[0m\u001b[1;33m\u001b[0m\u001b[0m\n\u001b[0;32m      4\u001b[0m \u001b[1;32mimport\u001b[0m \u001b[0mseaborn\u001b[0m \u001b[1;32mas\u001b[0m \u001b[0msns\u001b[0m\u001b[1;33m\u001b[0m\u001b[1;33m\u001b[0m\u001b[0m\n\u001b[1;32m----> 5\u001b[1;33m \u001b[1;32mimport\u001b[0m \u001b[0mplotly\u001b[0m\u001b[1;33m.\u001b[0m\u001b[0mexpress\u001b[0m \u001b[1;32mas\u001b[0m \u001b[0mpx\u001b[0m\u001b[1;33m\u001b[0m\u001b[1;33m\u001b[0m\u001b[0m\n\u001b[0m",
      "\u001b[1;31mModuleNotFoundError\u001b[0m: No module named 'plotly'"
     ]
    }
   ],
   "source": [
    "import pandas as pd\n",
    "import numpy as np\n",
    "import matplotlib.pyplot as plt\n",
    "import seaborn as sns\n",
    "import plotly.express as px"
   ]
  },
  {
   "cell_type": "code",
   "execution_count": null,
   "metadata": {},
   "outputs": [],
   "source": [
    "data=pd.read_csv('globalterrorism.csv',encoding='ISO-8859-1')"
   ]
  },
  {
   "cell_type": "code",
   "execution_count": null,
   "metadata": {},
   "outputs": [],
   "source": [
    "data.head()"
   ]
  },
  {
   "cell_type": "code",
   "execution_count": null,
   "metadata": {},
   "outputs": [],
   "source": [
    "data.columns"
   ]
  },
  {
   "cell_type": "code",
   "execution_count": null,
   "metadata": {},
   "outputs": [],
   "source": [
    "data_new=data.drop(['eventid','resolution','approxdate', 'extended','provstate',\n",
    "         'specificity','vicinity','location','crit1','crit2',\n",
    "         'crit3','doubtterr','alternative','alternative_txt',\n",
    "         'multiple','attacktype2_txt','attacktype3','attacktype3_txt',\n",
    "         'natlty1','natlty1','natlty1_txt','targtype2','targtype2_txt',\n",
    "         'targsubtype2','targsubtype2_txt','corp2','target2','natlty2','natlty2_txt',\n",
    "         'targtype3','targtype3_txt','targsubtype3','targsubtype3_txt','corp3',\n",
    "         'target3','natlty3','natlty3_txt','gsubname','gname2','gsubname2','gname3',\n",
    "         'gsubname3','guncertain1','guncertain2','guncertain3','individual','nperps','nperpcap',\t\n",
    "         'claimed','claimmode','claimmode_txt','claim2','claimmode2','claimmode2_txt','claim3',\n",
    "         'claimmode3','claimmode3_txt','compclaim','weapsubtype1','weapsubtype1_txt','weaptype2',\n",
    "         'weaptype2_txt','weapsubtype2','weapsubtype2_txt','weaptype3',\t\n",
    "         'weaptype3_txt','weapsubtype3','weapsubtype3_txt','weaptype4','weaptype4_txt','weapsubtype4','weapsubtype4_txt',\n",
    "         'nkillter','nwoundus','nwoundte','property','propextent','propextent_txt','propvalue','propcomment','ishostkid','nhostkid',\t\n",
    "         'nhostkidus','nhours','ndays','divert','kidhijcountry','ransom','ransomamt','ransomamtus','ransompaid','ransompaidus','ransomnote',\n",
    "         'hostkidoutcome','hostkidoutcome_txt','nreleased','addnotes','scite1','scite2','scite3','dbsource','INT_LOG','INT_IDEO',\n",
    "         'INT_MISC','INT_ANY','related'],axis=1)"
   ]
  },
  {
   "cell_type": "code",
   "execution_count": null,
   "metadata": {},
   "outputs": [],
   "source": [
    "data_new.head()"
   ]
  },
  {
   "cell_type": "code",
   "execution_count": null,
   "metadata": {},
   "outputs": [],
   "source": [
    "data_new.hist(figsize=(25,15))"
   ]
  },
  {
   "cell_type": "code",
   "execution_count": null,
   "metadata": {},
   "outputs": [],
   "source": [
    "plt.figure(figsize=(15,10))\n",
    "sns.heatmap(np.round(terr.corr(),2),annot=True)"
   ]
  },
  {
   "cell_type": "code",
   "execution_count": null,
   "metadata": {},
   "outputs": [],
   "source": [
    "plt.figure(figsize=(15,10))\n",
    "sns.countplot(x=\"iyear\", hue=\"success\", data=data_new)\n",
    "plt.title('Trend of increase in terrorism from 1970 to 2017',c='white')"
   ]
  },
  {
   "cell_type": "code",
   "execution_count": null,
   "metadata": {},
   "outputs": [],
   "source": [
    "year=data_new.iyear.value_counts().to_dict()\n",
    "rate=((year[2017]-year[1970])/year[2017])*100\n",
    "print(year[1970],'attacks happened in 1970 &',year[2017],'attacks happened in 2017')\n",
    "print('So the number of attacks from 1970 has increased by',np.round(rate,0),'% till 2017')"
   ]
  },
  {
   "cell_type": "code",
   "execution_count": null,
   "metadata": {},
   "outputs": [],
   "source": [
    "plt.figure(figsize=(15,10))\n",
    "sns.countplot(terr.success)\n",
    "plt.title('Count distribution of successful and unsuccessful attacks from 1970 to 2017',c='white')"
   ]
  },
  {
   "cell_type": "code",
   "execution_count": null,
   "metadata": {},
   "outputs": [],
   "source": [
    "arr=[((data_new['success']).value_counts()).max(),((terr['success']).value_counts()).min()]\n",
    "perc=((arr[0]-arr[1])/arr[0])*100"
   ]
  },
  {
   "cell_type": "code",
   "execution_count": null,
   "metadata": {},
   "outputs": [],
   "source": [
    "print('Ans(i) The number of attacks that were successful were',arr[0],'and',arr[1],'attacks were unsuccuessfull.')\n",
    "print('Ans(ii) The rate of successful attacks is',np.round(perc,0),'% higher than unsuccessful attacks.')"
   ]
  },
  {
   "cell_type": "code",
   "execution_count": null,
   "metadata": {},
   "outputs": [],
   "source": [
    "pd.crosstab([terr.country_txt,terr.suicide],[terr.success],margins=True).style.background_gradient(cmap='summer_r')"
   ]
  },
  {
   "cell_type": "code",
   "execution_count": null,
   "metadata": {},
   "outputs": [],
   "source": [
    "pd.crosstab([terr.gname,terr.suicide],[terr.success],margins=True).style.background_gradient(cmap='summer_r')"
   ]
  },
  {
   "cell_type": "code",
   "execution_count": null,
   "metadata": {},
   "outputs": [],
   "source": [
    "pd.crosstab([terr.weaptype1_txt,terr.suicide],[terr.success],margins=True).style.background_gradient(cmap='summer_r')"
   ]
  },
  {
   "cell_type": "code",
   "execution_count": null,
   "metadata": {},
   "outputs": [],
   "source": [
    "px.scatter(terr,terr.nwound,terr.nkill,hover_name='country_txt',animation_frame='iyear',animation_group='country_txt',color='suicide',\n",
    "           size='success',size_max=40,range_color=[0,1],labels={'nkill':'Deaths','nwound':'Casualities'},\n",
    "           title='Number of casualities vs Killed people in each country for each year')"
   ]
  },
  {
   "cell_type": "code",
   "execution_count": null,
   "metadata": {},
   "outputs": [],
   "source": [
    "terr1=data_new.groupby(['country_txt'],as_index=False).count()"
   ]
  },
  {
   "cell_type": "code",
   "execution_count": null,
   "metadata": {},
   "outputs": [],
   "source": [
    "fig=px.choropleth(terr1,locations='country_txt',locationmode='country names',\n",
    "                  color='iyear',hover_name='country_txt',projection='orthographic',\n",
    "                  title='Total number of attacks (1970-2017)',labels={'iyear':'Attacks'})\n",
    "fig.show()"
   ]
  },
  {
   "cell_type": "code",
   "execution_count": null,
   "metadata": {},
   "outputs": [],
   "source": [
    "px.choropleth(terr1,locations='country_txt',locationmode='country names'\n",
    "              ,color='iyear',hover_name='country_txt',title='Total number of attacks (1970-2017)'\n",
    "             ,labels={'iyear':'Attacks'})"
   ]
  },
  {
   "cell_type": "code",
   "execution_count": null,
   "metadata": {},
   "outputs": [],
   "source": [
    "max_count=terr1['iyear'].max()\n",
    "max_id=terr1['iyear'].idxmax()\n",
    "max_name=terr1['country_txt'][max_id]\n",
    "min_count=terr1['iyear'].min()\n",
    "min_id=terr1['iyear'].idxmin()\n",
    "min_name=terr1['country_txt'][min_id]"
   ]
  },
  {
   "cell_type": "code",
   "execution_count": null,
   "metadata": {},
   "outputs": [],
   "source": [
    "print(max_name,'has suffered the maximum number of terror attacks of',max_count)\n",
    "print(min_name,'has suffered the minimum number of terror attacks of',min_count)"
   ]
  },
  {
   "cell_type": "code",
   "execution_count": null,
   "metadata": {},
   "outputs": [],
   "source": []
  },
  {
   "cell_type": "code",
   "execution_count": null,
   "metadata": {},
   "outputs": [],
   "source": []
  }
 ],
 "metadata": {
  "kernelspec": {
   "display_name": "Python 3",
   "language": "python",
   "name": "python3"
  },
  "language_info": {
   "codemirror_mode": {
    "name": "ipython",
    "version": 3
   },
   "file_extension": ".py",
   "mimetype": "text/x-python",
   "name": "python",
   "nbconvert_exporter": "python",
   "pygments_lexer": "ipython3",
   "version": "3.8.5"
  }
 },
 "nbformat": 4,
 "nbformat_minor": 4
}
